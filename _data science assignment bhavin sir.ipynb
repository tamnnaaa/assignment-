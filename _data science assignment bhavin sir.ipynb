{
 "cells": [
  {
   "cell_type": "code",
   "execution_count": 2,
   "id": "35adfe9e",
   "metadata": {},
   "outputs": [
    {
     "name": "stdout",
     "output_type": "stream",
     "text": [
      "fail\n",
      "fail\n",
      "fail\n",
      "second class\n",
      "distriction\n",
      "distriction\n",
      "distriction\n",
      "first class\n",
      "distriction\n"
     ]
    }
   ],
   "source": [
    "scores=[35,50,20,30,55,75,90,95,66,80]\n",
    "for x in scores:\n",
    "    if x>70:\n",
    "        print('distriction')\n",
    "    elif 60<x<70:\n",
    "        print(\"first class\")\n",
    "    elif 50<x<60:\n",
    "        print(\"second class\")\n",
    "    elif 35<x<50:\n",
    "        print(\"pass\")\n",
    "    elif x<50:\n",
    "        print(\"fail\")"
   ]
  },
  {
   "cell_type": "code",
   "execution_count": 5,
   "id": "264eb143",
   "metadata": {},
   "outputs": [
    {
     "name": "stdout",
     "output_type": "stream",
     "text": [
      "Python\n",
      "web_tech\n",
      "IT\n"
     ]
    }
   ],
   "source": [
    "Book_price={'Python':600, 'Java': 400, 'web_tech':550, 'os': 450, 'IT':700}\n",
    "for x,y in Book_price.items():\n",
    "    if y>500:\n",
    "        print(x)"
   ]
  },
  {
   "cell_type": "code",
   "execution_count": 6,
   "id": "a685f593",
   "metadata": {},
   "outputs": [
    {
     "name": "stdout",
     "output_type": "stream",
     "text": [
      "1 4 9 16 25 36 49 "
     ]
    }
   ],
   "source": [
    "aList= [1,2,3,4,5,6,7]\n",
    "for x in aList:\n",
    "    squard_list=x**2\n",
    "    print(squard_list,end=' ')"
   ]
  },
  {
   "cell_type": "code",
   "execution_count": 8,
   "id": "2260e672",
   "metadata": {},
   "outputs": [
    {
     "name": "stdout",
     "output_type": "stream",
     "text": [
      "Hellodear\n",
      "Hellosir\n",
      "takedear\n",
      "takesir\n"
     ]
    }
   ],
   "source": [
    "list1 = [\"Hello\",\"take\"]\n",
    "list2 = [\"dear\",\"sir\"]\n",
    "for x in list1:\n",
    "    for j in list2:\n",
    "        print(x+j)"
   ]
  },
  {
   "cell_type": "code",
   "execution_count": 1,
   "id": "bc62f6da",
   "metadata": {},
   "outputs": [
    {
     "data": {
      "text/plain": [
       "[500, 400, 300, 200, 100]"
      ]
     },
     "execution_count": 1,
     "metadata": {},
     "output_type": "execute_result"
    }
   ],
   "source": [
    "list = [100,200,300,400,500]\n",
    "rev=list[::-1]\n",
    "rev"
   ]
  },
  {
   "cell_type": "code",
   "execution_count": 2,
   "id": "f4801717",
   "metadata": {},
   "outputs": [
    {
     "data": {
      "text/plain": [
       "[100, 20, [300, 400, [5000, 6000, 7000], 500], 30, 40]"
      ]
     },
     "execution_count": 2,
     "metadata": {},
     "output_type": "execute_result"
    }
   ],
   "source": [
    "list1 = [100,20,[300,400,[5000,6000],500],30,40]\n",
    "list1[2][2].append(7000)\n",
    "list1"
   ]
  },
  {
   "cell_type": "code",
   "execution_count": 5,
   "id": "8d73e363",
   "metadata": {},
   "outputs": [
    {
     "data": {
      "text/plain": [
       "['a', 'b', ['c', ['d', 'e', ['f', 'g', 'h', 'i', 'j'], 'k'], 'l'], 'm', 'n']"
      ]
     },
     "execution_count": 5,
     "metadata": {},
     "output_type": "execute_result"
    }
   ],
   "source": [
    "list1=[\"a\",\"b\",[\"c\",[\"d\",\"e\",[\"f\",\"g\"],\"k\"],\"l\"],\"m\",\"n\"]\n",
    "list1[2][1][2].extend([\"h\",\"i\",\"j\"])\n",
    "list1"
   ]
  },
  {
   "cell_type": "code",
   "execution_count": 7,
   "id": "fb21dada",
   "metadata": {},
   "outputs": [
    {
     "name": "stdout",
     "output_type": "stream",
     "text": [
      "sachin\n",
      "rahul\n"
     ]
    }
   ],
   "source": [
    "player_game={'sachin':'cricket','rahul':'cricket','messi':'football','federer':'tennis','anand':'chess'}\n",
    "for x,y in player_game.items():\n",
    "    if y=='cricket':\n",
    "        print(x)"
   ]
  },
  {
   "cell_type": "code",
   "execution_count": 6,
   "id": "2be6ae33",
   "metadata": {},
   "outputs": [
    {
     "data": {
      "text/plain": [
       "54"
      ]
     },
     "execution_count": 6,
     "metadata": {},
     "output_type": "execute_result"
    }
   ],
   "source": [
    "sum=0\n",
    "list1=[1,2,3,4,5,10,20,4,5]\n",
    "for i in list1:\n",
    "    sum+=i\n",
    "sum"
   ]
  },
  {
   "cell_type": "code",
   "execution_count": null,
   "id": "54e49cee",
   "metadata": {},
   "outputs": [],
   "source": []
  }
 ],
 "metadata": {
  "kernelspec": {
   "display_name": "Python 3 (ipykernel)",
   "language": "python",
   "name": "python3"
  },
  "language_info": {
   "codemirror_mode": {
    "name": "ipython",
    "version": 3
   },
   "file_extension": ".py",
   "mimetype": "text/x-python",
   "name": "python",
   "nbconvert_exporter": "python",
   "pygments_lexer": "ipython3",
   "version": "3.11.4"
  }
 },
 "nbformat": 4,
 "nbformat_minor": 5
}
